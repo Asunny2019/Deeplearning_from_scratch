{
 "cells": [
  {
   "cell_type": "markdown",
   "metadata": {
    "id": "9_ghwEiv-i9o"
   },
   "source": [
    "# 9장. 텍스트를 분류합니다"
   ]
  },
  {
   "cell_type": "code",
   "execution_count": 44,
   "metadata": {
    "id": "8tuqmlzv-i9r"
   },
   "outputs": [],
   "source": [
    "from tensorflow.keras.preprocessing import sequence\n",
    "import tensorflow as tf\n",
    "import numpy as np\n",
    "from tensorflow.keras.datasets import imdb\n",
    "from tensorflow.keras.utils import to_categorical\n",
    "import matplotlib.pyplot as plt"
   ]
  },
  {
   "cell_type": "code",
   "execution_count": 30,
   "metadata": {
    "colab": {
     "base_uri": "https://localhost:8080/"
    },
    "id": "bB7Y2lgT-i9r",
    "outputId": "60828e4c-82a6-4579-e90e-b4378565af66"
   },
   "outputs": [],
   "source": [
    "(x_train_all, y_train_all), (x_test, y_test) = imdb.load_data(skip_top=20, num_words=100)"
   ]
  },
  {
   "cell_type": "code",
   "execution_count": 31,
   "metadata": {
    "colab": {
     "base_uri": "https://localhost:8080/"
    },
    "id": "AGGlzizB-i9t",
    "outputId": "216564b6-54bc-459a-936f-73626dd0b084"
   },
   "outputs": [
    {
     "name": "stdout",
     "output_type": "stream",
     "text": [
      "[22, 43, 65, 66, 36, 25, 43, 50, 35, 39, 38, 50, 22, 22, 71, 87, 43, 38, 76, 22, 62, 66, 33, 38, 25, 51, 36, 48, 25, 33, 22, 28, 77, 52, 82, 36, 71, 43, 26, 46, 88, 98, 32, 56, 26, 22, 21, 26, 30, 51, 36, 28, 92, 25, 65, 38, 88, 32, 32]\n"
     ]
    }
   ],
   "source": [
    "for i in range(len(x_train_all)):\n",
    "    x_train_all[i] = [w for w in x_train_all[i] if w > 2]\n",
    "\n",
    "print(x_train_all[0])"
   ]
  },
  {
   "cell_type": "code",
   "execution_count": 32,
   "metadata": {
    "colab": {
     "base_uri": "https://localhost:8080/"
    },
    "id": "PnziRrOV-i9t",
    "outputId": "64883537-97c8-4178-896a-49ec14708816"
   },
   "outputs": [
    {
     "data": {
      "text/plain": [
       "17"
      ]
     },
     "execution_count": 32,
     "metadata": {},
     "output_type": "execute_result"
    }
   ],
   "source": [
    "word_to_index = imdb.get_word_index()\n",
    "\n",
    "word_to_index['movie']"
   ]
  },
  {
   "cell_type": "code",
   "execution_count": 33,
   "metadata": {
    "colab": {
     "base_uri": "https://localhost:8080/"
    },
    "id": "OtnWluCa-i9u",
    "outputId": "2285ba97-5b79-47e7-c7ab-c7fe2220086e"
   },
   "outputs": [
    {
     "name": "stdout",
     "output_type": "stream",
     "text": [
      "film just story really they you just there an from so there film film were great just so much film would really at so you what they if you at film have been good also they were just are out because them all up are film but are be what they have don't you story so because all all "
     ]
    }
   ],
   "source": [
    "index_to_word = {word_to_index[k]: k for k in word_to_index}\n",
    "\n",
    "for w in x_train_all[0]:\n",
    "    print(index_to_word[w - 3], end=' ')"
   ]
  },
  {
   "cell_type": "code",
   "execution_count": 34,
   "metadata": {
    "colab": {
     "base_uri": "https://localhost:8080/"
    },
    "id": "a8mnm0xk-i9u",
    "outputId": "b82e7609-4c37-45b2-bda5-3256c11afea7"
   },
   "outputs": [
    {
     "name": "stdout",
     "output_type": "stream",
     "text": [
      "(25000,) (25000,)\n"
     ]
    }
   ],
   "source": [
    "print(x_train_all.shape, y_train_all.shape)"
   ]
  },
  {
   "cell_type": "code",
   "execution_count": 35,
   "metadata": {
    "colab": {
     "base_uri": "https://localhost:8080/"
    },
    "id": "m6jYt7CG-i9v",
    "outputId": "27978992-fb0a-42c7-b3f1-dd27229b8096"
   },
   "outputs": [
    {
     "name": "stdout",
     "output_type": "stream",
     "text": [
      "59 32\n"
     ]
    }
   ],
   "source": [
    "print(len(x_train_all[0]), len(x_train_all[1]))"
   ]
  },
  {
   "cell_type": "code",
   "execution_count": 36,
   "metadata": {
    "colab": {
     "base_uri": "https://localhost:8080/"
    },
    "id": "z5-teaRv-i9v",
    "outputId": "54c9d820-888a-49d5-ea61-d6786c3bfe4e"
   },
   "outputs": [
    {
     "name": "stdout",
     "output_type": "stream",
     "text": [
      "[1 0 0 1 0 0 1 0 1 0]\n"
     ]
    }
   ],
   "source": [
    "print(y_train_all[:10])"
   ]
  },
  {
   "cell_type": "code",
   "execution_count": 37,
   "metadata": {
    "id": "M3HNEvNx-i9v"
   },
   "outputs": [],
   "source": [
    "np.random.seed(42)\n",
    "random_index = np.random.permutation(25000)\n",
    "\n",
    "x_train = x_train_all[random_index[:20000]]\n",
    "y_train = y_train_all[random_index[:20000]]\n",
    "x_val = x_train_all[random_index[20000:]]\n",
    "y_val = y_train_all[random_index[20000:]]"
   ]
  },
  {
   "cell_type": "code",
   "execution_count": 38,
   "metadata": {
    "id": "XZIL6Ghj-i9v"
   },
   "outputs": [],
   "source": [
    "\n",
    "maxlen=100\n",
    "x_train_seq = sequence.pad_sequences(x_train, maxlen=maxlen)\n",
    "x_val_seq = sequence.pad_sequences(x_val, maxlen=maxlen)"
   ]
  },
  {
   "cell_type": "code",
   "execution_count": 39,
   "metadata": {
    "colab": {
     "base_uri": "https://localhost:8080/"
    },
    "id": "5DDjVYVY-i9w",
    "outputId": "d88b10a7-c634-4f66-ba70-ff31b3a44612"
   },
   "outputs": [
    {
     "name": "stdout",
     "output_type": "stream",
     "text": [
      "(20000, 100) (5000, 100)\n"
     ]
    }
   ],
   "source": [
    "print(x_train_seq.shape, x_val_seq.shape)"
   ]
  },
  {
   "cell_type": "code",
   "execution_count": 40,
   "metadata": {
    "colab": {
     "base_uri": "https://localhost:8080/"
    },
    "id": "7J0WG33D-i9w",
    "outputId": "d613471c-eb1b-40b6-f394-1164a234c958"
   },
   "outputs": [
    {
     "name": "stdout",
     "output_type": "stream",
     "text": [
      "[ 0  0  0  0  0  0  0  0  0  0  0  0  0  0  0  0  0  0  0  0  0  0  0  0\n",
      "  0  0  0  0  0  0  0  0  0  0  0  0  0  0  0  0  0  0  0  0  0  0  0  0\n",
      "  0  0  0  0  0  0  0  0  0  0  0  0  0  0 35 40 27 28 40 22 83 31 85 45\n",
      " 24 23 31 70 31 76 30 98 32 22 28 51 75 56 30 33 97 53 38 46 53 74 31 35\n",
      " 23 34 22 58]\n"
     ]
    }
   ],
   "source": [
    "print(x_train_seq[0])"
   ]
  },
  {
   "cell_type": "code",
   "execution_count": 41,
   "metadata": {
    "id": "tc_bNtvw-i9w",
    "scrolled": true
   },
   "outputs": [],
   "source": [
    "x_train_onehot = to_categorical(x_train_seq)\n",
    "x_val_onehot = to_categorical(x_val_seq)"
   ]
  },
  {
   "cell_type": "code",
   "execution_count": 42,
   "metadata": {
    "colab": {
     "base_uri": "https://localhost:8080/"
    },
    "id": "nJTYFe9A-i9w",
    "outputId": "4d1988e2-4efd-4f00-cd72-be098a8205bb",
    "scrolled": true
   },
   "outputs": [
    {
     "name": "stdout",
     "output_type": "stream",
     "text": [
      "(20000, 100, 100)\n"
     ]
    }
   ],
   "source": [
    "print(x_train_onehot.shape)"
   ]
  },
  {
   "cell_type": "code",
   "execution_count": 43,
   "metadata": {
    "colab": {
     "base_uri": "https://localhost:8080/"
    },
    "id": "Zo5yvEEO-i9x",
    "outputId": "e9a73f2b-5e26-4fc9-c8b6-f189ae6e2f59",
    "scrolled": true
   },
   "outputs": [
    {
     "name": "stdout",
     "output_type": "stream",
     "text": [
      "800000000\n"
     ]
    }
   ],
   "source": [
    "print(x_train_onehot.nbytes)"
   ]
  },
  {
   "cell_type": "markdown",
   "metadata": {
    "id": "HnI5Gb0F-i9y"
   },
   "source": [
    "## 09-3 텐서플로로 순환 신경망을 만듭니다"
   ]
  },
  {
   "cell_type": "code",
   "execution_count": 46,
   "metadata": {
    "id": "s6l_eILT-i9z"
   },
   "outputs": [],
   "source": [
    "from tensorflow.keras.models import Sequential\n",
    "from tensorflow.keras.layers import Dense, SimpleRNN"
   ]
  },
  {
   "cell_type": "markdown",
   "metadata": {},
   "source": [
    "RNN을 먼저 거치게하고 Dense를 다음에 가도록 만든다.  \n",
    "마지막 타임스텝의 은닉상태 h만 다음으로 전달 되므로 32가 출력되는 차원이다.\n",
    "파라미터가 4256개인 이유는 입력은 원핫인코딩된 100차원 벡터이고 셀개수가 32이므로  \n",
    "$W_{1x}$ 행렬요소는 $100 x 32$이다. $W_{1h}$ 행렬의 요소개수도 $32 x 32$가 된다. 마지막으로 셀마다 하나씩 총 32개의 절편이 있다.\n",
    "\n"
   ]
  },
  {
   "cell_type": "code",
   "execution_count": 63,
   "metadata": {},
   "outputs": [
    {
     "data": {
      "text/plain": [
       "4256"
      ]
     },
     "execution_count": 63,
     "metadata": {},
     "output_type": "execute_result"
    }
   ],
   "source": [
    "(32*100)+(32*32) +32"
   ]
  },
  {
   "cell_type": "code",
   "execution_count": 61,
   "metadata": {
    "colab": {
     "base_uri": "https://localhost:8080/"
    },
    "id": "GymVpzWL-i9z",
    "outputId": "0f41021f-38e6-4b59-c279-c27cbf34d398",
    "scrolled": false
   },
   "outputs": [
    {
     "name": "stdout",
     "output_type": "stream",
     "text": [
      "Model: \"sequential_2\"\n",
      "_________________________________________________________________\n",
      "Layer (type)                 Output Shape              Param #   \n",
      "=================================================================\n",
      "simple_rnn_2 (SimpleRNN)     (None, 32)                4256      \n",
      "_________________________________________________________________\n",
      "dense_2 (Dense)              (None, 1)                 33        \n",
      "=================================================================\n",
      "Total params: 4,289\n",
      "Trainable params: 4,289\n",
      "Non-trainable params: 0\n",
      "_________________________________________________________________\n"
     ]
    }
   ],
   "source": [
    "model = Sequential()\n",
    "\n",
    "model.add(SimpleRNN(32, input_shape=(100, 100)))\n",
    "# 원핫벡터 100차원, 단어개수 100개라서 input(100,100)\n",
    "# 뉴런의 개수 32는 출력되는 차원을 말한다 \n",
    "\n",
    "model.add(Dense(1, activation='sigmoid'))\n",
    "# 이진분류모델(긍정 or 부정)이므로 1개의 유닛을 갖고 sigmoid 활성화함수\n",
    "\n",
    "model.summary()"
   ]
  },
  {
   "cell_type": "code",
   "execution_count": 48,
   "metadata": {
    "colab": {
     "base_uri": "https://localhost:8080/"
    },
    "id": "lJ4B6S7h-i9z",
    "outputId": "6ca0c342-326c-4a55-fed5-36211acd8bff"
   },
   "outputs": [
    {
     "name": "stdout",
     "output_type": "stream",
     "text": [
      "Train on 20000 samples, validate on 5000 samples\n",
      "Epoch 1/20\n",
      "20000/20000 [==============================] - 14s 723us/sample - loss: 0.7038 - accuracy: 0.5133 - val_loss: 0.6917 - val_accuracy: 0.5396\n",
      "Epoch 2/20\n",
      "20000/20000 [==============================] - 14s 676us/sample - loss: 0.6809 - accuracy: 0.5681 - val_loss: 0.6618 - val_accuracy: 0.6062\n",
      "Epoch 3/20\n",
      "20000/20000 [==============================] - 14s 678us/sample - loss: 0.6732 - accuracy: 0.5846 - val_loss: 0.6841 - val_accuracy: 0.5526\n",
      "Epoch 4/20\n",
      "20000/20000 [==============================] - 14s 679us/sample - loss: 0.6644 - accuracy: 0.6021 - val_loss: 0.6890 - val_accuracy: 0.5346\n",
      "Epoch 5/20\n",
      "20000/20000 [==============================] - 14s 686us/sample - loss: 0.6477 - accuracy: 0.6273 - val_loss: 0.7028 - val_accuracy: 0.5898\n",
      "Epoch 6/20\n",
      "20000/20000 [==============================] - 14s 684us/sample - loss: 0.6225 - accuracy: 0.6604 - val_loss: 0.6017 - val_accuracy: 0.6806\n",
      "Epoch 7/20\n",
      "20000/20000 [==============================] - 14s 694us/sample - loss: 0.6097 - accuracy: 0.6710 - val_loss: 0.5880 - val_accuracy: 0.6910\n",
      "Epoch 8/20\n",
      "20000/20000 [==============================] - 14s 688us/sample - loss: 0.6015 - accuracy: 0.6801 - val_loss: 0.5918 - val_accuracy: 0.6850\n",
      "Epoch 9/20\n",
      "20000/20000 [==============================] - 14s 683us/sample - loss: 0.5936 - accuracy: 0.6877 - val_loss: 0.5989 - val_accuracy: 0.6808\n",
      "Epoch 10/20\n",
      "20000/20000 [==============================] - 14s 689us/sample - loss: 0.5886 - accuracy: 0.6922 - val_loss: 0.5961 - val_accuracy: 0.6832\n",
      "Epoch 11/20\n",
      "20000/20000 [==============================] - 14s 698us/sample - loss: 0.5824 - accuracy: 0.6936 - val_loss: 0.5892 - val_accuracy: 0.6840\n",
      "Epoch 12/20\n",
      "20000/20000 [==============================] - 14s 684us/sample - loss: 0.5785 - accuracy: 0.6968 - val_loss: 0.5736 - val_accuracy: 0.7030\n",
      "Epoch 13/20\n",
      "20000/20000 [==============================] - 14s 702us/sample - loss: 0.5763 - accuracy: 0.6989 - val_loss: 0.6037 - val_accuracy: 0.6748\n",
      "Epoch 14/20\n",
      "20000/20000 [==============================] - 14s 693us/sample - loss: 0.5734 - accuracy: 0.7002 - val_loss: 0.5864 - val_accuracy: 0.6886\n",
      "Epoch 15/20\n",
      "20000/20000 [==============================] - 14s 695us/sample - loss: 0.5721 - accuracy: 0.7047 - val_loss: 0.5804 - val_accuracy: 0.6960\n",
      "Epoch 16/20\n",
      "20000/20000 [==============================] - 14s 699us/sample - loss: 0.5690 - accuracy: 0.7096 - val_loss: 0.5792 - val_accuracy: 0.6968\n",
      "Epoch 17/20\n",
      "20000/20000 [==============================] - 14s 688us/sample - loss: 0.5675 - accuracy: 0.7067 - val_loss: 0.5805 - val_accuracy: 0.6968\n",
      "Epoch 18/20\n",
      "20000/20000 [==============================] - 14s 690us/sample - loss: 0.5686 - accuracy: 0.7052 - val_loss: 0.5723 - val_accuracy: 0.7002\n",
      "Epoch 19/20\n",
      "20000/20000 [==============================] - 14s 683us/sample - loss: 0.5637 - accuracy: 0.7120 - val_loss: 0.5697 - val_accuracy: 0.7000\n",
      "Epoch 20/20\n",
      "20000/20000 [==============================] - 14s 687us/sample - loss: 0.5646 - accuracy: 0.7092 - val_loss: 0.5813 - val_accuracy: 0.6934\n"
     ]
    }
   ],
   "source": [
    "model.compile(optimizer='sgd', loss='binary_crossentropy', metrics=['accuracy'])\n",
    "\n",
    "history = model.fit(x_train_onehot, y_train, epochs=20, batch_size=32, \n",
    "                    validation_data=(x_val_onehot, y_val))"
   ]
  },
  {
   "cell_type": "code",
   "execution_count": 49,
   "metadata": {
    "colab": {
     "base_uri": "https://localhost:8080/",
     "height": 265
    },
    "id": "P9JbIT0a-i9z",
    "outputId": "ab7b1baf-5cd3-49fe-c076-ca6f2f7ebbdf"
   },
   "outputs": [
    {
     "data": {
      "image/png": "[encoded data removed]",
      "text/plain": [
       "<Figure size 432x288 with 1 Axes>"
      ]
     },
     "metadata": {
      "needs_background": "light"
     },
     "output_type": "display_data"
    }
   ],
   "source": [
    "plt.plot(history.history['loss'])\n",
    "plt.plot(history.history['val_loss'])\n",
    "plt.show()"
   ]
  },
  {
   "cell_type": "code",
   "execution_count": 50,
   "metadata": {
    "colab": {
     "base_uri": "https://localhost:8080/",
     "height": 265
    },
    "id": "Ygpe5dJb-i9z",
    "outputId": "c3452118-007e-4891-dd1b-67e445ae1f8c",
    "scrolled": true
   },
   "outputs": [
    {
     "data": {
      "image/png": "[encoded data removed]",
      "text/plain": [
       "<Figure size 432x288 with 1 Axes>"
      ]
     },
     "metadata": {
      "needs_background": "light"
     },
     "output_type": "display_data"
    }
   ],
   "source": [
    "plt.plot(history.history['accuracy'])\n",
    "plt.plot(history.history['val_accuracy'])\n",
    "plt.show()"
   ]
  },
  {
   "cell_type": "code",
   "execution_count": 51,
   "metadata": {
    "colab": {
     "base_uri": "https://localhost:8080/"
    },
    "id": "B5tdYrHI-i9z",
    "outputId": "888c2ade-f5a4-4a06-d8f1-1c04c28c331d",
    "scrolled": true
   },
   "outputs": [
    {
     "name": "stdout",
     "output_type": "stream",
     "text": [
      "0.6934\n"
     ]
    }
   ],
   "source": [
    "loss, accuracy = model.evaluate(x_val_onehot, y_val, verbose=0)\n",
    "print(accuracy)"
   ]
  },
  {
   "cell_type": "markdown",
   "metadata": {},
   "source": [
    "### 워드 임베딩층으로 순환 신경망의 성능 높여보자\n",
    "- 앞에서 짰던 순환신경망의 단점은 텍스트 데이터를 원핫인코딩으로 전처리했다. \n",
    "원핫인코딩의 단점은 입력데이터의 크기와 사용할 수 있는 단어가 제한된다는 점이다.또한 원핫인코딩은 단어 사이의 유사성을 표현하지 못한다. 또한 공간 낭비가 된다.(해당하는 단어만 1 아닌 것은 0이므로 매트릭스의 대부분이 0)\n",
    "- 지금 보려는 워드임베딩은 이런 단점을 해결하기 위해서 고안되었다. 그림처럼 단어를 고정된 길이의 실수벡터로 임베딩 해낸다.\n",
    "![](https://github.com/Asunny2019/Deeplearning_from_scratch/blob/main/Deeplearning_from_scratch1/img/09_1.JPG?raw=true)\n",
    "\n",
    "[word2vec](http://w.elnn.kr/search/) 사이트에 들어가서 단어 벡터간의 유사도를 보자.  \n",
    "\n",
    "\n",
    "여자-여왕+왕 = 남자  \n",
    "개그맨-유재석+아이유 = 가수  \n",
    "유재석-개그맨+가수 = 김경호(?)  \n",
    "일본-우동+불고기 = 한국  \n",
    "우동-일본+한국 = 짜장  "
   ]
  },
  {
   "cell_type": "code",
   "execution_count": 52,
   "metadata": {
    "id": "fuRof-82-i9z"
   },
   "outputs": [],
   "source": [
    "from tensorflow.keras.layers import Embedding"
   ]
  },
  {
   "cell_type": "code",
   "execution_count": 53,
   "metadata": {
    "id": "cLIPDxtF-i90"
   },
   "outputs": [],
   "source": [
    "(x_train_all, y_train_all), (x_test, y_test) = imdb.load_data(skip_top=20, num_words=1000)\n",
    "\n",
    "for i in range(len(x_train_all)):\n",
    "    x_train_all[i] = [w for w in x_train_all[i] if w > 2]\n",
    "    \n",
    "x_train = x_train_all[random_index[:20000]]\n",
    "y_train = y_train_all[random_index[:20000]]\n",
    "x_val = x_train_all[random_index[20000:]]\n",
    "y_val = y_train_all[random_index[20000:]]"
   ]
  },
  {
   "cell_type": "code",
   "execution_count": 54,
   "metadata": {
    "id": "UtFZeN3s-i90"
   },
   "outputs": [],
   "source": [
    "maxlen=100\n",
    "x_train_seq = sequence.pad_sequences(x_train, maxlen=maxlen)\n",
    "x_val_seq = sequence.pad_sequences(x_val, maxlen=maxlen)"
   ]
  },
  {
   "cell_type": "code",
   "execution_count": 55,
   "metadata": {
    "colab": {
     "base_uri": "https://localhost:8080/"
    },
    "id": "RpikvyLJ-i90",
    "outputId": "1d7fab7d-be26-4392-b8ab-4f1ea04a33dc",
    "scrolled": false
   },
   "outputs": [
    {
     "name": "stdout",
     "output_type": "stream",
     "text": [
      "Model: \"sequential_1\"\n",
      "_________________________________________________________________\n",
      "Layer (type)                 Output Shape              Param #   \n",
      "=================================================================\n",
      "embedding (Embedding)        (None, None, 32)          32000     \n",
      "_________________________________________________________________\n",
      "simple_rnn_1 (SimpleRNN)     (None, 8)                 328       \n",
      "_________________________________________________________________\n",
      "dense_1 (Dense)              (None, 1)                 9         \n",
      "=================================================================\n",
      "Total params: 32,337\n",
      "Trainable params: 32,337\n",
      "Non-trainable params: 0\n",
      "_________________________________________________________________\n"
     ]
    }
   ],
   "source": [
    "model_ebd = Sequential()\n",
    "\n",
    "model_ebd.add(Embedding(1000, 32)) \n",
    "# 1000개의 단어를 써보자! 아까보다 10배, \n",
    "# 그러나 임베딩 차원이 32이므로 파라미터가 32000으로 전의 모델보다 \n",
    "# 효율적으로 학습할수 있다.\n",
    "model_ebd.add(SimpleRNN(8))\n",
    "model_ebd.add(Dense(1, activation='sigmoid'))\n",
    "\n",
    "model_ebd.summary()"
   ]
  },
  {
   "cell_type": "code",
   "execution_count": 56,
   "metadata": {
    "colab": {
     "base_uri": "https://localhost:8080/"
    },
    "id": "MkxR6a5X-i90",
    "outputId": "f286ddc5-1782-43b1-ead6-2558fafc012f",
    "scrolled": true
   },
   "outputs": [
    {
     "name": "stdout",
     "output_type": "stream",
     "text": [
      "Train on 20000 samples, validate on 5000 samples\n",
      "Epoch 1/10\n",
      "20000/20000 [==============================] - 15s 756us/sample - loss: 0.6410 - accuracy: 0.6095 - val_loss: 0.5077 - val_accuracy: 0.7600\n",
      "Epoch 2/10\n",
      "20000/20000 [==============================] - 14s 683us/sample - loss: 0.4648 - accuracy: 0.7928 - val_loss: 0.4613 - val_accuracy: 0.7944\n",
      "Epoch 3/10\n",
      "20000/20000 [==============================] - 13s 635us/sample - loss: 0.4045 - accuracy: 0.8272 - val_loss: 0.4249 - val_accuracy: 0.8086\n",
      "Epoch 4/10\n",
      "20000/20000 [==============================] - 12s 606us/sample - loss: 0.3670 - accuracy: 0.8474 - val_loss: 0.4502 - val_accuracy: 0.7968\n",
      "Epoch 5/10\n",
      "20000/20000 [==============================] - 12s 616us/sample - loss: 0.3414 - accuracy: 0.8597 - val_loss: 0.4548 - val_accuracy: 0.8030\n",
      "Epoch 6/10\n",
      "20000/20000 [==============================] - 12s 601us/sample - loss: 0.3247 - accuracy: 0.8682 - val_loss: 0.4506 - val_accuracy: 0.8124\n",
      "Epoch 7/10\n",
      "20000/20000 [==============================] - 12s 620us/sample - loss: 0.3130 - accuracy: 0.8729 - val_loss: 0.4421 - val_accuracy: 0.8148\n",
      "Epoch 8/10\n",
      "20000/20000 [==============================] - 12s 624us/sample - loss: 0.2847 - accuracy: 0.8865 - val_loss: 0.4330 - val_accuracy: 0.8228\n",
      "Epoch 9/10\n",
      "20000/20000 [==============================] - 12s 624us/sample - loss: 0.2656 - accuracy: 0.8965 - val_loss: 0.4673 - val_accuracy: 0.8036\n",
      "Epoch 10/10\n",
      "20000/20000 [==============================] - 12s 625us/sample - loss: 0.2498 - accuracy: 0.9026 - val_loss: 0.4751 - val_accuracy: 0.8116\n"
     ]
    }
   ],
   "source": [
    "model_ebd.compile(optimizer='adam', loss='binary_crossentropy', metrics=['accuracy'])\n",
    "\n",
    "history = model_ebd.fit(x_train_seq, y_train, epochs=10, batch_size=32, \n",
    "                        validation_data=(x_val_seq, y_val))"
   ]
  },
  {
   "cell_type": "code",
   "execution_count": 57,
   "metadata": {
    "colab": {
     "base_uri": "https://localhost:8080/",
     "height": 268
    },
    "id": "InKiA_9L-i90",
    "outputId": "99096b90-119a-4e02-a3c2-2eb52d7cdaaa"
   },
   "outputs": [
    {
     "data": {
      "image/png": "[encoded data removed]",
      "text/plain": [
       "<Figure size 432x288 with 1 Axes>"
      ]
     },
     "metadata": {
      "needs_background": "light"
     },
     "output_type": "display_data"
    }
   ],
   "source": [
    "plt.plot(history.history['loss'])\n",
    "plt.plot(history.history['val_loss'])\n",
    "plt.show()"
   ]
  },
  {
   "cell_type": "code",
   "execution_count": 58,
   "metadata": {
    "colab": {
     "base_uri": "https://localhost:8080/",
     "height": 265
    },
    "id": "IQakah7b-i90",
    "outputId": "d693e23b-e500-4f95-8bb4-1891fe693a0b",
    "scrolled": true
   },
   "outputs": [
    {
     "data": {
      "image/png": "[encoded data removed]",
      "text/plain": [
       "<Figure size 432x288 with 1 Axes>"
      ]
     },
     "metadata": {
      "needs_background": "light"
     },
     "output_type": "display_data"
    }
   ],
   "source": [
    "plt.plot(history.history['accuracy'])\n",
    "plt.plot(history.history['val_accuracy'])\n",
    "plt.show()"
   ]
  },
  {
   "cell_type": "code",
   "execution_count": 59,
   "metadata": {
    "colab": {
     "base_uri": "https://localhost:8080/"
    },
    "id": "duoWIPWg-i90",
    "outputId": "0e630de9-5b34-4a94-b46b-7bf7ca116d45",
    "scrolled": false
   },
   "outputs": [
    {
     "name": "stdout",
     "output_type": "stream",
     "text": [
      "0.8116\n"
     ]
    }
   ],
   "source": [
    "loss, accuracy = model_ebd.evaluate(x_val_seq, y_val, verbose=0)\n",
    "print(accuracy)"
   ]
  }
 ],
 "metadata": {
  "accelerator": "GPU",
  "colab": {
   "name": "Ch09.ipynb",
   "provenance": []
  },
  "kernelspec": {
   "display_name": "Python 3",
   "language": "python",
   "name": "python3"
  },
  "language_info": {
   "codemirror_mode": {
    "name": "ipython",
    "version": 3
   },
   "file_extension": ".py",
   "mimetype": "text/x-python",
   "name": "python",
   "nbconvert_exporter": "python",
   "pygments_lexer": "ipython3",
   "version": "3.7.4"
  }
 },
 "nbformat": 4,
 "nbformat_minor": 1
}
