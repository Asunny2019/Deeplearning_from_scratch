{
  "nbformat": 4,
  "nbformat_minor": 0,
  "metadata": {
    "colab": {
      "name": "ch5_1_2_훈련노하우.ipynb",
      "provenance": [],
      "collapsed_sections": []
    },
    "kernelspec": {
      "name": "python3",
      "display_name": "Python 3"
    },
    "language_info": {
      "name": "python"
    }
  },
  "cells": [
    {
      "cell_type": "markdown",
      "metadata": {
        "id": "ENMEdHVBA6-p"
      },
      "source": [
        "# ch 5 훈련 노하우를 배웁니다.\n",
        "## 05-1. 검정세트를 나누고 전처리 과정을 배웁니다.\n",
        "\n",
        "- 유방암 데이터 셋을 '훈련세트'와 '테스트 세트'로 나누어서 준비했다.\n",
        " 훈련 세트는 fit()메서드에 전달되어 모델을 훈련하는데 사용하였고 테스트 세트는 score()메서드에 전달해 모델의 성능을 평가했다. \n",
        " 여기서는 테스트 세트의 사용방법에 대해 조금 더 깊이 알아보려고 한다. \n",
        "\n",
        "\n",
        "\n",
        " __테스트 세트로 모델을 튜닝한다.__(사실 테스트세트로 모델을 튜닝하는게 왜 잘못되는지 말해주려고 돌려보는 것 같음)  \n",
        " \n",
        "  4장 마지막에서는 사이킷런의 SGDclassifier 클래스를 이용해서 로지스틱 회귀 문제에 경사하강법을 적용했고, 이때 loss function을 log로 지정해서 로지스틱 손실함수를 손실함수로 지정했다.\n",
        "\n",
        "__로지스틱 회귀로 모델 훈련하고 평가하기__  "
      ]
    },
    {
      "cell_type": "code",
      "metadata": {
        "id": "q5kLod4MFpna"
      },
      "source": [
        "from sklearn.datasets import load_breast_cancer\n",
        "from sklearn.model_selection import train_test_split\n",
        "from sklearn.linear_model import SGDClassifier\n",
        "import matplotlib.pyplot as plt\n",
        "import pandas as pd\n",
        "import numpy as np"
      ],
      "execution_count": 42,
      "outputs": []
    },
    {
      "cell_type": "code",
      "metadata": {
        "colab": {
          "base_uri": "https://localhost:8080/"
        },
        "id": "P85QkA58_3Cw",
        "outputId": "72388324-be21-4327-8d50-ba2bece38fcd"
      },
      "source": [
        "cancer=load_breast_cancer()\n",
        "x=cancer.data\n",
        "y=cancer.target\n",
        "x_train_all, x_test, y_train_all, y_test= train_test_split(x, y, stratify=y, test_size=0.2, random_state=42)\n",
        "\n",
        "sgd=SGDClassifier(loss='log', random_state=42)\n",
        "sgd.fit(x_train_all, y_train_all)\n",
        "sgd.score(x_test, y_test)"
      ],
      "execution_count": 5,
      "outputs": [
        {
          "output_type": "execute_result",
          "data": {
            "text/plain": [
              "0.8333333333333334"
            ]
          },
          "metadata": {},
          "execution_count": 5
        }
      ]
    },
    {
      "cell_type": "markdown",
      "metadata": {
        "id": "EnXsTgtjBWVI"
      },
      "source": [
        "### __서포트 벡터 머신으로 모델 훈련하고 평가하기__\n",
        "- SGDClassifier 클래스의 loss 매개변수를 log에서 hinge로 바꾸면 선형 서포트 벡터 머신(Support Vector Machine)문제를 푸는 모델이 만들어진다.  \n",
        "여기에서 SVM이란 훈련 데이터의 클래스를 구분하는 경계선을 찾는 작업 정도로 이해하면 된다. \n",
        "\n",
        "\n",
        "![](https://web.archive.org/web/20150422065824im_/http://scikit-learn.org/stable/_images/plot_sgd_separating_hyperplane_0011.png)"
      ]
    },
    {
      "cell_type": "code",
      "metadata": {
        "colab": {
          "base_uri": "https://localhost:8080/"
        },
        "id": "ndpE1H43_2_Y",
        "outputId": "613206a7-adeb-40bb-bee9-57933d2d7d80"
      },
      "source": [
        "sgd=SGDClassifier(loss='hinge', random_state=42) # loss function을 hinge로 쓰는 것이 log로 쓰는 것보다(로지스틱 회귀보다 서포트벡터머신이 테스트 데이터를 더 잘 분류해낸다.)\n",
        "sgd.fit(x_train_all, y_train_all)\n",
        "sgd.score(x_test, y_test)"
      ],
      "execution_count": 6,
      "outputs": [
        {
          "output_type": "execute_result",
          "data": {
            "text/plain": [
              "0.9385964912280702"
            ]
          },
          "metadata": {},
          "execution_count": 6
        }
      ]
    },
    {
      "cell_type": "markdown",
      "metadata": {
        "id": "v1anKDRUCVRy"
      },
      "source": [
        "__하이퍼파라미터(hyperparameter)__: 모델 알고리즘에서 사람이 직접 입력시켜줘야하는 값(모델의 가중치를 파라미터라고 함, 파라미터와 하이퍼파라미터 를 혼동하지 말자) 여러번 시도해서 가장 높은 점수가 나오는 하이퍼파라미터를 선택하는데 이 과정을 '모델을 튜닝한다'고 한다.\n",
        "\n",
        "ex) 손실함수 선택(log, hinge 등등), epochs, batch size, learning rate, hidden layer를 몇층을 할지 hidden layer의 노드의 개수를 어떻게 할지 등 모두 하이퍼파라미터로 튜닝해야하는 값이다.\n"
      ]
    },
    {
      "cell_type": "markdown",
      "metadata": {
        "id": "_ym6wxWXjP2s"
      },
      "source": [
        "\n",
        "하이퍼파라미터를 튜닝할때 우린 주의해야하는 점이 있는데 테스트세트로 튜닝을 하게 되면 __테스트 셋에 간접적으로 훈련하는 효과를 낳게 되어서 일반적으로 좋은 성능을 보이는 모델__이 아닌 테스트셋에 __오버피팅__되는 모델이 된다. 그래서 일반화 성능추정이 어려워진다. 즉, 실전에서 좋은 성능을 내지 못할 확률이 높습니다.\n",
        "\n",
        "__why?__ 테스트 세트로 튜닝한 모델은 테스트 세트에서만 좋은 성능을 보이는 하이퍼파라미터의 조합으로 테스트 될 위험이 있다.  \n",
        "이런 현상을 '테스트 세트의 정보가 모델에 새어 나갔다'라고 말한다. 즉, 테스트 세트로 모델을 튜닝하면 테스트 세트의 정보가 모델에 새어 나가므로 모델의 일반화 성능(Generalization performance)이 왜곡된다. \n"
      ]
    },
    {
      "cell_type": "markdown",
      "metadata": {
        "id": "cuju7HrmWlNq"
      },
      "source": [
        "\n",
        "### 그래서!!! 검증세트(validation set)를 준비한다. \n",
        "훈련데이터 세트에서 일부 떼어낸 검증 셋트 혹은 개발세트이라고 하는 것을  만든다.\n",
        "훈련 데이터로 모델을 튜닝하여서 검증세트에서 테스트를 한다. 이렇게 테스트를 하여서 가장 성능이 좋은 하이퍼파라미터의 조합을 찾아내고 이렇게 찾아낸 조합으로 만들어낸 모델을 __실전에 투입하기 전에 딱 한번만 테스트세트에서 테스트__를 한다. \n",
        "![](https://blog.kakaocdn.net/dn/dVfds2/btqLkhbs7T4/U97igLNa0nSfvmBPn5BnbK/img.png)\n",
        "![](https://img1.daumcdn.net/thumb/R1280x0/?scode=mtistory2&fname=https%3A%2F%2Fblog.kakaocdn.net%2Fdn%2Fk4UQW%2FbtqLjsEmxTP%2FUGalfLDhyaw5MF5GD5KjI1%2Fimg.png)\n",
        " "
      ]
    },
    {
      "cell_type": "markdown",
      "metadata": {
        "id": "zoBrVGmsbaII"
      },
      "source": [
        "## 검증세트를 나눠서 훈련하고 모델 평가하는 3단계\n",
        "### 1. 데이터 세트 준비하기\n",
        " 위스콘신 유방암 데이터 준비하기\n",
        "\n",
        "### 2. 검증세트 분할하기\n",
        "\n",
        "앞에서 훈련, 검증, 테스트 세트는 6:2:2로 분할한다고 했다. 하지만 실제 분할작업은 8:2로 훈련-테스트세트 나누고, 다시 훈련데이터 세트를 8:2로 나누어서 2를 검증세트로 할당한다.  (데이터가 100개라면 64:20:16)"
      ]
    },
    {
      "cell_type": "code",
      "metadata": {
        "colab": {
          "base_uri": "https://localhost:8080/"
        },
        "id": "X-aQbpzMYxI8",
        "outputId": "1da4b570-32c8-4d95-cd6e-0861faa970bf"
      },
      "source": [
        "x=cancer.data\n",
        "y=cancer.target\n",
        "\n",
        "x_train_all, x_test, y_train_all,y_test=train_test_split(x,y,stratify=y, test_size=0.2, random_state=42)\n",
        "x_train, x_val, y_train, y_val=train_test_split(x_train_all, y_train_all, stratify=y_train_all, test_size=0.2, random_state=42)\n",
        "\n",
        "print(\"유방암데이터 전체 데이터:\",x.shape[0], \"/ 훈련데이터 전체 개수:569*0.8=\",len(x_train_all),\"/ 검증세트를 떼어낸 훈련세트:455*0.8=\",len(x_train), \"/ 검증세트 개수:455*0.2=\",len(x_val))\n"
      ],
      "execution_count": 17,
      "outputs": [
        {
          "output_type": "stream",
          "name": "stdout",
          "text": [
            "유방암데이터 전체 데이터: 569 / 훈련데이터 전체 개수:569*0.8= 455 / 검증세트를 떼어낸 훈련세트:455*0.8= 364 / 검증세트 개수:455*0.2= 91\n"
          ]
        }
      ]
    },
    {
      "cell_type": "code",
      "metadata": {
        "colab": {
          "base_uri": "https://localhost:8080/"
        },
        "id": "o2Sj1wJyZy9t",
        "outputId": "e8fa6d0c-4a09-4fde-8c34-7f2d38c7e90e"
      },
      "source": [
        "print(569*0.8, 455*0.8, 455*0.2)"
      ],
      "execution_count": 14,
      "outputs": [
        {
          "output_type": "stream",
          "name": "stdout",
          "text": [
            "455.20000000000005 364.0 91.0\n"
          ]
        }
      ]
    },
    {
      "cell_type": "markdown",
      "metadata": {
        "id": "r4Et5s8qbWfB"
      },
      "source": [
        "\n",
        "\n",
        "\n",
        "### 3. 검증세트 사용해서 모델 평가하기 \n",
        "\n",
        "훈련세트의 데이터 양이 줄었기 때문에 평가점수가 조금 낮아지게 된다. 위스콘신 유방암데이터의 샘플 개수가 적어서 검증세트 비율을 조금만 조절해도 성능평가 점수가 크게 변한다. 데이터 양이 너무 적으면 검증세트를 나누지 않고 교차검증(cross validation)을 하기도 한다.  \n",
        "(정형 데이터로 예측모델 만들때는 주로 k-fold cross validation을 썼음. 훈련데이터에서 검증세트를 떼어내지 않아도 되어서 훈련을 충분히 시킬 수 있다는 장점이 있지만 검증하는데 시간이 오래 걸린다는 단점이 있다. 보통 10 fold cross validation을 구하고 이에 대한 평균을 구해서 예측 성능을 측정함. 아래 그림은 5-fold cross validation)\n",
        "![k-fold cross validation](https://img1.daumcdn.net/thumb/R1280x0/?scode=mtistory2&fname=https%3A%2F%2Fblog.kakaocdn.net%2Fdn%2FcaM9Yt%2FbtqVOsIyV9o%2FCnu2KjGWZzKfK2Mm6lf7Mk%2Fimg.png)\n",
        "\n",
        "__일반적으로 10만개 데이터가 있으면 8:1:1로 분할하고 100만개 이상의 데이터는 98:1:1 정도로 비율로 샘플을 나눈다.__"
      ]
    },
    {
      "cell_type": "code",
      "metadata": {
        "colab": {
          "base_uri": "https://localhost:8080/"
        },
        "id": "hQBfwoeOcQK9",
        "outputId": "33ceb928-7de2-417a-8447-ea8a7cfc499f"
      },
      "source": [
        "sgd=SGDClassifier(loss='log', random_state=42)\n",
        "sgd.fit(x_train, y_train)\n",
        "sgd.score(x_val, y_val) # 검증세트를 나누기 전에는 0.8333333"
      ],
      "execution_count": 19,
      "outputs": [
        {
          "output_type": "execute_result",
          "data": {
            "text/plain": [
              "0.6923076923076923"
            ]
          },
          "metadata": {},
          "execution_count": 19
        }
      ]
    },
    {
      "cell_type": "markdown",
      "metadata": {
        "id": "ZSUt1sraOqVU"
      },
      "source": [
        "▶ key point\n",
        "- 테스트 세트로 모델을 튜닝하면 테스트 세트의 정보가 모델에 새어나간다.\n",
        "- 검증세트로 모델을 튜닝해야한다.\n",
        "- 훈련세트, 검증세트, 테스트 세트는 일반적으로 6:2:2의 비율로 나눈다."
      ]
    },
    {
      "cell_type": "markdown",
      "metadata": {
        "id": "QL-K_5Z4WpJg"
      },
      "source": [
        "## __데이터 전처리와 특성의 스케일을 알아보자.__\n",
        "\n",
        "사이킷런에서 제공하는 데이터는 실습을 위한 것이기 때문에 잘 가공되어있지만 실전에서 수집된 데이터는 그렇지 않다.  \n",
        "누락된 데이터가 있기도 하고 데이터의 형태가 균일하지 않을 수도 있고 데이터에 잘못된 값이 들어가거나 이상치가 존재하기도 한다. 이런 데이터들을 적절하게 가공하는 것을 '데이터 전처리(data preprocessing)'과정이 필요한다."
      ]
    },
    {
      "cell_type": "markdown",
      "metadata": {
        "id": "cpfQI10JnAHJ"
      },
      "source": [
        "__특성의 스케일은 알고리즘에 영향을 준다.__\n",
        "\n"
      ]
    },
    {
      "cell_type": "code",
      "metadata": {
        "id": "WqmKJ_QEPol6"
      },
      "source": [
        "df=pd.DataFrame(cancer.data[:,[2,3]], columns=cancer.feature_names[[2,3]])"
      ],
      "execution_count": 27,
      "outputs": []
    },
    {
      "cell_type": "code",
      "metadata": {
        "colab": {
          "base_uri": "https://localhost:8080/",
          "height": 300
        },
        "id": "2bePa6TomVDF",
        "outputId": "d9231153-f78f-4424-f7a2-3c0c7a499b12"
      },
      "source": [
        "df.describe()"
      ],
      "execution_count": 30,
      "outputs": [
        {
          "output_type": "execute_result",
          "data": {
            "text/html": [
              "<div>\n",
              "<style scoped>\n",
              "    .dataframe tbody tr th:only-of-type {\n",
              "        vertical-align: middle;\n",
              "    }\n",
              "\n",
              "    .dataframe tbody tr th {\n",
              "        vertical-align: top;\n",
              "    }\n",
              "\n",
              "    .dataframe thead th {\n",
              "        text-align: right;\n",
              "    }\n",
              "</style>\n",
              "<table border=\"1\" class=\"dataframe\">\n",
              "  <thead>\n",
              "    <tr style=\"text-align: right;\">\n",
              "      <th></th>\n",
              "      <th>mean perimeter</th>\n",
              "      <th>mean area</th>\n",
              "    </tr>\n",
              "  </thead>\n",
              "  <tbody>\n",
              "    <tr>\n",
              "      <th>count</th>\n",
              "      <td>569.000000</td>\n",
              "      <td>569.000000</td>\n",
              "    </tr>\n",
              "    <tr>\n",
              "      <th>mean</th>\n",
              "      <td>91.969033</td>\n",
              "      <td>654.889104</td>\n",
              "    </tr>\n",
              "    <tr>\n",
              "      <th>std</th>\n",
              "      <td>24.298981</td>\n",
              "      <td>351.914129</td>\n",
              "    </tr>\n",
              "    <tr>\n",
              "      <th>min</th>\n",
              "      <td>43.790000</td>\n",
              "      <td>143.500000</td>\n",
              "    </tr>\n",
              "    <tr>\n",
              "      <th>25%</th>\n",
              "      <td>75.170000</td>\n",
              "      <td>420.300000</td>\n",
              "    </tr>\n",
              "    <tr>\n",
              "      <th>50%</th>\n",
              "      <td>86.240000</td>\n",
              "      <td>551.100000</td>\n",
              "    </tr>\n",
              "    <tr>\n",
              "      <th>75%</th>\n",
              "      <td>104.100000</td>\n",
              "      <td>782.700000</td>\n",
              "    </tr>\n",
              "    <tr>\n",
              "      <th>max</th>\n",
              "      <td>188.500000</td>\n",
              "      <td>2501.000000</td>\n",
              "    </tr>\n",
              "  </tbody>\n",
              "</table>\n",
              "</div>"
            ],
            "text/plain": [
              "       mean perimeter    mean area\n",
              "count      569.000000   569.000000\n",
              "mean        91.969033   654.889104\n",
              "std         24.298981   351.914129\n",
              "min         43.790000   143.500000\n",
              "25%         75.170000   420.300000\n",
              "50%         86.240000   551.100000\n",
              "75%        104.100000   782.700000\n",
              "max        188.500000  2501.000000"
            ]
          },
          "metadata": {},
          "execution_count": 30
        }
      ]
    },
    {
      "cell_type": "code",
      "metadata": {
        "colab": {
          "base_uri": "https://localhost:8080/",
          "height": 284
        },
        "id": "KHZL3mOz_27p",
        "outputId": "99be2581-eb94-48e1-bbb3-77fba062483d"
      },
      "source": [
        "print(cancer.feature_names[[2,3]])\n",
        "\n",
        "plt.boxplot(x_train_all[:, 2:4])\n",
        "plt.ylabel('value')\n",
        "plt.xticks([1,2],cancer.feature_names[[2,3]])\n",
        "\n",
        "plt.show()"
      ],
      "execution_count": 39,
      "outputs": [
        {
          "output_type": "stream",
          "name": "stdout",
          "text": [
            "['mean perimeter' 'mean area']\n"
          ]
        },
        {
          "output_type": "display_data",
          "data": {
            "image/png": "[encoded data removed]",
            "text/plain": [
              "<Figure size 432x288 with 1 Axes>"
            ]
          },
          "metadata": {
            "needs_background": "light"
          }
        }
      ]
    },
    {
      "cell_type": "markdown",
      "metadata": {
        "id": "Mh0eU2UlqPVO"
      },
      "source": [
        "mean perimeter, mean area의 값의 범위는 각각 43.79 ~ 118.5, 143.5 ~ 2501.0 으로 박스플롯 그림으로만 보아도 두 변수의 스케일 차이가 크다.   \n",
        "결론은 __데이터의 스케일 차이가 많이 나는 두 변수들을 스케일 변환을 하지 않고 데이터를 학습하면 가중치가 불안정하게 학습__된다. 다음은 실제로 불안정하게 학습되는 모습을 보여준다."
      ]
    },
    {
      "cell_type": "markdown",
      "metadata": {
        "id": "1M7hrATzonLX"
      },
      "source": [
        "3장에서 만들었던 SingleLayer 클래스에 인스턴스 변수를 추가하여서  \n",
        "\n",
        "__w_history:__ 에포크마다 가중치의 값을 저장하여 가중치의 변화를 관찰할 때 사용한다.  \n",
        "\n",
        "__lr:__ 학습률(learning rate)이라는 개념도 도입해보자.\n",
        "가중치를 얼만큼 업데이트할지를 설정하는 것으로 손실함수가 최소가 되는 전역 최솟값을 찾기 위해서 적절한 학습률을 설정 해주어야 한다.  \n",
        "\n",
        "학습률이 너무 높으면 가중치의 변화가 커서 전역 최솟값을 지나칠 수있다.   \n",
        "반면에 학습률을 적절하게 적용한 모델은 가중치가 적절한 폭으로 업데이트 되므로 천천히 전역 최솟값을 찾을 수 있다.  \n",
        "주어진 문제마다 적절한 학습률은 다르지만 보통 0.001, 0.01 등 로그스케일로 학습률을 지정하여 학습을 한다.  \n",
        "\n",
        "\n",
        "fit 메소드를 보면\n",
        "self.w-=self.lr*w_grad 가중치를 할때 학습률을 반영해서 업데이트하는 것을 볼 수 있다. "
      ]
    },
    {
      "cell_type": "code",
      "metadata": {
        "id": "Fp2fuQJ_nMDr"
      },
      "source": [
        "class SingleLayer:\n",
        "    \n",
        "    def __init__(self, learning_rate=0.1, l1=0, l2=0):\n",
        "        self.w = None\n",
        "        self.b = None\n",
        "        self.losses = []\n",
        "        self.val_losses = [] # validation set의 손실 저장\n",
        "        self.w_history = [] # weight 가중치의 변화 저장\n",
        "        self.lr = learning_rate # learning rate을 튜닝할 수 있도록 \n",
        "        self.l1 = l1 # L1 규제 \n",
        "        self.l2 = l2 # L2 규제\n",
        "\n",
        "    def forpass(self, x):\n",
        "        z = np.sum(x * self.w) + self.b    # 직선 방정식을 계산합니다\n",
        "        return z\n",
        "\n",
        "    def backprop(self, x, err):\n",
        "        w_grad = x * err          # 가중치에 대한 그래디언트를 계산합니다\n",
        "        b_grad = 1 * err    # 절편에 대한 그래디언트를 계산합니다\n",
        "        return w_grad, b_grad\n",
        "\n",
        "    def activation(self, z):\n",
        "        z = np.clip(z, -100, None) # 안전한 np.exp() 계산을 위해\n",
        "        a = 1 / (1 + np.exp(-z))  # 시그모이드 계산\n",
        "        return a\n",
        "        \n",
        "    def fit(self, x, y, epochs=100, x_val=None, y_val=None):\n",
        "        self.w = np.ones(x.shape[1])               # 가중치를 초기화합니다.\n",
        "        self.b = 0                                 # 절편을 초기화합니다.\n",
        "        self.w_history.append(self.w.copy())       # 가중치를 기록합니다.\n",
        "        np.random.seed(42)                         # 랜덤 시드를 지정합니다.\n",
        "        for i in range(epochs):                    # epochs만큼 반복합니다.\n",
        "            loss = 0\n",
        "            # 인덱스를 섞습니다\n",
        "            indexes = np.random.permutation(np.arange(len(x)))\n",
        "            for i in indexes:                      # 모든 샘플에 대해 반복합니다\n",
        "                z = self.forpass(x[i])             # 정방향 계산\n",
        "                a = self.activation(z)             # 활성화 함수 적용\n",
        "                err = -(y[i] - a)                  # 오차 계산\n",
        "                w_grad, b_grad = self.backprop(x[i], err) # 역방향 계산\n",
        "                # 그래디언트에서 페널티 항의 미분 값을 더합니다\n",
        "                w_grad += self.l1 * np.sign(self.w) + self.l2 * self.w\n",
        "                self.w -= self.lr * w_grad         # 가중치 업데이트\n",
        "                self.b -= self.lr * b_grad         # 절편 업데이트\n",
        "\n",
        "                # 업데이트 된 가중치를 기록합니다. \n",
        "                # self.w.copy()를 하지 않으면 맨 처음의 1.0 이외에는 모두 최종 w값이 입력됨.(모두 같은 값이 된다.)\n",
        "                self.w_history.append(self.w.copy())\n",
        "                # 안전한 로그 계산을 위해 클리핑한 후 손실을 누적합니다\n",
        "                a = np.clip(a, 1e-10, 1-1e-10)\n",
        "                loss += -(y[i]*np.log(a)+(1-y[i])*np.log(1-a))\n",
        "            # 에포크마다 평균 손실을 저장합니다\n",
        "            self.losses.append(loss/len(y) + self.reg_loss())\n",
        "            # 검증 세트에 대한 손실을 계산합니다\n",
        "            self.update_val_loss(x_val, y_val)\n",
        "    \n",
        "    def predict(self, x):\n",
        "        z = [self.forpass(x_i) for x_i in x]     # 정방향 계산\n",
        "        return np.array(z) >= 0                   # 스텝 함수 적용\n",
        "    \n",
        "    def score(self, x, y):\n",
        "        return np.mean(self.predict(x) == y)\n",
        "    \n",
        "    def reg_loss(self):\n",
        "        return self.l1 * np.sum(np.abs(self.w)) + self.l2 / 2 * np.sum(self.w**2)\n",
        "    \n",
        "    def update_val_loss(self, x_val, y_val):\n",
        "        if x_val is None:\n",
        "            return\n",
        "        val_loss = 0\n",
        "        for i in range(len(x_val)):\n",
        "            z = self.forpass(x_val[i])     # 정방향 계산\n",
        "            a = self.activation(z)         # 활성화 함수 적용\n",
        "            a = np.clip(a, 1e-10, 1-1e-10)\n",
        "            val_loss += -(y_val[i]*np.log(a)+(1-y_val[i])*np.log(1-a))\n",
        "        self.val_losses.append(val_loss/len(y_val) + self.reg_loss())"
      ],
      "execution_count": 46,
      "outputs": []
    },
    {
      "cell_type": "code",
      "metadata": {
        "colab": {
          "base_uri": "https://localhost:8080/"
        },
        "id": "1N94uibOxWTb",
        "outputId": "9490a89e-a886-4167-bf1d-0990426a9b0f"
      },
      "source": [
        "layer1=SingleLayer()\n",
        "layer1.fit(x_train, y_train)\n",
        "layer1.score(x_val, y_val)"
      ],
      "execution_count": 47,
      "outputs": [
        {
          "output_type": "execute_result",
          "data": {
            "text/plain": [
              "0.9120879120879121"
            ]
          },
          "metadata": {},
          "execution_count": 47
        }
      ]
    },
    {
      "cell_type": "code",
      "metadata": {
        "colab": {
          "base_uri": "https://localhost:8080/"
        },
        "id": "JMy9NRFuzv3C",
        "outputId": "d59bddc4-a518-4789-85ba-33ceede63d6d"
      },
      "source": [
        "len(w2)"
      ],
      "execution_count": 54,
      "outputs": [
        {
          "output_type": "execute_result",
          "data": {
            "text/plain": [
              "36401"
            ]
          },
          "metadata": {},
          "execution_count": 54
        }
      ]
    },
    {
      "cell_type": "code",
      "metadata": {
        "id": "ui9BqIXY_23H",
        "colab": {
          "base_uri": "https://localhost:8080/",
          "height": 350
        },
        "outputId": "26ea8113-043d-46c0-f956-acf7dd18137e"
      },
      "source": [
        "w2=[]\n",
        "w3=[]\n",
        "n=0\n",
        "plt.figure(figsize=(25,5))\n",
        "for i, w in enumerate(layer1.w_history):\n",
        "  w2.append(w[2])\n",
        "  w3.append(w[3])\n",
        "  if i%12000==0:\n",
        "    n+=1\n",
        "    plt.subplot(1,6,n)\n",
        "    plt.plot(w2,w3)\n",
        "    plt.plot(w2[-1],w3[-1],'ro')\n",
        "    plt.xlabel('mean perimeter')\n",
        "    plt.ylabel(\"mean area\")\n",
        "    plt.title(\"%d\"%i)\n",
        "plt.show()"
      ],
      "execution_count": 64,
      "outputs": [
        {
          "output_type": "display_data",
          "data": {
            "image/png": "[encoded data removed]",
            "text/plain": [
              "<Figure size 1800x360 with 4 Axes>"
            ]
          },
          "metadata": {
            "needs_background": "light"
          }
        }
      ]
    },
    {
      "cell_type": "markdown",
      "metadata": {
        "id": "Z4DqlhXC1fv3"
      },
      "source": [
        "앞서서 mean perimeter 값의 범위는 43.79 ~ 118.5, mean area의 값의 범위는 143.5 ~ 2501.0 으로 mean area 값의 스케일이 더 크다.  \n",
        "mean perimeter(w2)는 0부터 시작해서 조금씩 최적값에 가까워진다.  \n",
        "이 그래프의 현상을 __'mean area(w3)에 대한 그레디언트가 크기 때문에 mean area(w3)축을 따라 가중치가 크게 요동치고 있다'__ 고 말한다.  \n",
        "\n",
        "다음은 4장에서 보았던 로지스틱 손실함수 경사하강법의 공식이다. \n",
        "$$w_i=w_i+(y-a)x_i$$\n",
        " 이 식의 오른쪽 식의 두번째 항에 $x_i$가 있다. 즉, 가중치를 업데이트를 하는데 특성(feature)이 영향을 미치게 된다.  \n",
        "  만일 데이터의 스케일 차이가 많이 나게 되면 가중치를 최적화 하는 속도가  차이가 나고 위 그림과 같이 모델이 불안정하게 수렴하게 되므로 스케일이 비슷하도록 만들어주는 표준화를 해주어야한다.\n",
        "\n",
        "\n",
        "### __해결법: 스케일을 조정해서 모델을 훈련한다.__\n",
        "\n",
        "스케일을 조정하는 방법은 많지만 신경망에서 자주 사용하는 스케일 조정방법 중 하나는 표준화(standardization)입니다. \n",
        "\n",
        "__표준화__는 특성값에서 평균을 빼고 표준편차로 나누면 된다. 표준화를 하면 평균이 0이고 분산이 1인 특성이 만들어진다. \n",
        "$$z=\\frac{x-\\mu}{s}$$\n",
        "$\\mu$는 평균, $s$는 분산이다. "
      ]
    },
    {
      "cell_type": "markdown",
      "metadata": {
        "id": "yiPXrZk17OE0"
      },
      "source": [
        "#### 1. 넘파이로 표준화 구하기"
      ]
    },
    {
      "cell_type": "code",
      "metadata": {
        "colab": {
          "base_uri": "https://localhost:8080/",
          "height": 245
        },
        "id": "nGmeeAlc7YhM",
        "outputId": "24cb786f-27fe-477b-c9bc-9013de2439dc"
      },
      "source": [
        "df_=pd.DataFrame(x_train)\n",
        "print(df_.shape)\n",
        "df_.head()\n"
      ],
      "execution_count": 71,
      "outputs": [
        {
          "output_type": "stream",
          "name": "stdout",
          "text": [
            "(364, 30)\n"
          ]
        },
        {
          "output_type": "execute_result",
          "data": {
            "text/html": [
              "<div>\n",
              "<style scoped>\n",
              "    .dataframe tbody tr th:only-of-type {\n",
              "        vertical-align: middle;\n",
              "    }\n",
              "\n",
              "    .dataframe tbody tr th {\n",
              "        vertical-align: top;\n",
              "    }\n",
              "\n",
              "    .dataframe thead th {\n",
              "        text-align: right;\n",
              "    }\n",
              "</style>\n",
              "<table border=\"1\" class=\"dataframe\">\n",
              "  <thead>\n",
              "    <tr style=\"text-align: right;\">\n",
              "      <th></th>\n",
              "      <th>0</th>\n",
              "      <th>1</th>\n",
              "      <th>2</th>\n",
              "      <th>3</th>\n",
              "      <th>4</th>\n",
              "      <th>5</th>\n",
              "      <th>6</th>\n",
              "      <th>7</th>\n",
              "      <th>8</th>\n",
              "      <th>9</th>\n",
              "      <th>10</th>\n",
              "      <th>11</th>\n",
              "      <th>12</th>\n",
              "      <th>13</th>\n",
              "      <th>14</th>\n",
              "      <th>15</th>\n",
              "      <th>16</th>\n",
              "      <th>17</th>\n",
              "      <th>18</th>\n",
              "      <th>19</th>\n",
              "      <th>20</th>\n",
              "      <th>21</th>\n",
              "      <th>22</th>\n",
              "      <th>23</th>\n",
              "      <th>24</th>\n",
              "      <th>25</th>\n",
              "      <th>26</th>\n",
              "      <th>27</th>\n",
              "      <th>28</th>\n",
              "      <th>29</th>\n",
              "    </tr>\n",
              "  </thead>\n",
              "  <tbody>\n",
              "    <tr>\n",
              "      <th>0</th>\n",
              "      <td>14.80</td>\n",
              "      <td>17.66</td>\n",
              "      <td>95.88</td>\n",
              "      <td>674.8</td>\n",
              "      <td>0.09179</td>\n",
              "      <td>0.0889</td>\n",
              "      <td>0.04069</td>\n",
              "      <td>0.02260</td>\n",
              "      <td>0.1893</td>\n",
              "      <td>0.05886</td>\n",
              "      <td>0.2204</td>\n",
              "      <td>0.6221</td>\n",
              "      <td>1.482</td>\n",
              "      <td>19.75</td>\n",
              "      <td>0.004796</td>\n",
              "      <td>0.01171</td>\n",
              "      <td>0.01758</td>\n",
              "      <td>0.006897</td>\n",
              "      <td>0.02254</td>\n",
              "      <td>0.001971</td>\n",
              "      <td>16.43</td>\n",
              "      <td>22.74</td>\n",
              "      <td>105.90</td>\n",
              "      <td>829.5</td>\n",
              "      <td>0.1226</td>\n",
              "      <td>0.1881</td>\n",
              "      <td>0.20600</td>\n",
              "      <td>0.08308</td>\n",
              "      <td>0.3600</td>\n",
              "      <td>0.07285</td>\n",
              "    </tr>\n",
              "    <tr>\n",
              "      <th>1</th>\n",
              "      <td>11.74</td>\n",
              "      <td>14.02</td>\n",
              "      <td>74.24</td>\n",
              "      <td>427.3</td>\n",
              "      <td>0.07813</td>\n",
              "      <td>0.0434</td>\n",
              "      <td>0.02245</td>\n",
              "      <td>0.02763</td>\n",
              "      <td>0.2101</td>\n",
              "      <td>0.06113</td>\n",
              "      <td>0.5619</td>\n",
              "      <td>1.2680</td>\n",
              "      <td>3.717</td>\n",
              "      <td>37.83</td>\n",
              "      <td>0.008034</td>\n",
              "      <td>0.01442</td>\n",
              "      <td>0.01514</td>\n",
              "      <td>0.018460</td>\n",
              "      <td>0.02921</td>\n",
              "      <td>0.002005</td>\n",
              "      <td>13.31</td>\n",
              "      <td>18.26</td>\n",
              "      <td>84.70</td>\n",
              "      <td>533.7</td>\n",
              "      <td>0.1036</td>\n",
              "      <td>0.0850</td>\n",
              "      <td>0.06735</td>\n",
              "      <td>0.08290</td>\n",
              "      <td>0.3101</td>\n",
              "      <td>0.06688</td>\n",
              "    </tr>\n",
              "    <tr>\n",
              "      <th>2</th>\n",
              "      <td>14.71</td>\n",
              "      <td>21.59</td>\n",
              "      <td>95.55</td>\n",
              "      <td>656.9</td>\n",
              "      <td>0.11370</td>\n",
              "      <td>0.1365</td>\n",
              "      <td>0.12930</td>\n",
              "      <td>0.08123</td>\n",
              "      <td>0.2027</td>\n",
              "      <td>0.06758</td>\n",
              "      <td>0.4226</td>\n",
              "      <td>1.1500</td>\n",
              "      <td>2.735</td>\n",
              "      <td>40.09</td>\n",
              "      <td>0.003659</td>\n",
              "      <td>0.02855</td>\n",
              "      <td>0.02572</td>\n",
              "      <td>0.012720</td>\n",
              "      <td>0.01817</td>\n",
              "      <td>0.004108</td>\n",
              "      <td>17.87</td>\n",
              "      <td>30.70</td>\n",
              "      <td>115.70</td>\n",
              "      <td>985.5</td>\n",
              "      <td>0.1368</td>\n",
              "      <td>0.4290</td>\n",
              "      <td>0.35870</td>\n",
              "      <td>0.18340</td>\n",
              "      <td>0.3698</td>\n",
              "      <td>0.10940</td>\n",
              "    </tr>\n",
              "    <tr>\n",
              "      <th>3</th>\n",
              "      <td>18.77</td>\n",
              "      <td>21.43</td>\n",
              "      <td>122.90</td>\n",
              "      <td>1092.0</td>\n",
              "      <td>0.09116</td>\n",
              "      <td>0.1402</td>\n",
              "      <td>0.10600</td>\n",
              "      <td>0.06090</td>\n",
              "      <td>0.1953</td>\n",
              "      <td>0.06083</td>\n",
              "      <td>0.6422</td>\n",
              "      <td>1.5300</td>\n",
              "      <td>4.369</td>\n",
              "      <td>88.25</td>\n",
              "      <td>0.007548</td>\n",
              "      <td>0.03897</td>\n",
              "      <td>0.03914</td>\n",
              "      <td>0.018160</td>\n",
              "      <td>0.02168</td>\n",
              "      <td>0.004445</td>\n",
              "      <td>24.54</td>\n",
              "      <td>34.37</td>\n",
              "      <td>161.10</td>\n",
              "      <td>1873.0</td>\n",
              "      <td>0.1498</td>\n",
              "      <td>0.4827</td>\n",
              "      <td>0.46340</td>\n",
              "      <td>0.20480</td>\n",
              "      <td>0.3679</td>\n",
              "      <td>0.09870</td>\n",
              "    </tr>\n",
              "    <tr>\n",
              "      <th>4</th>\n",
              "      <td>11.80</td>\n",
              "      <td>16.58</td>\n",
              "      <td>78.99</td>\n",
              "      <td>432.0</td>\n",
              "      <td>0.10910</td>\n",
              "      <td>0.1700</td>\n",
              "      <td>0.16590</td>\n",
              "      <td>0.07415</td>\n",
              "      <td>0.2678</td>\n",
              "      <td>0.07371</td>\n",
              "      <td>0.3197</td>\n",
              "      <td>1.4260</td>\n",
              "      <td>2.281</td>\n",
              "      <td>24.72</td>\n",
              "      <td>0.005427</td>\n",
              "      <td>0.03633</td>\n",
              "      <td>0.04649</td>\n",
              "      <td>0.018430</td>\n",
              "      <td>0.05628</td>\n",
              "      <td>0.004635</td>\n",
              "      <td>13.74</td>\n",
              "      <td>26.38</td>\n",
              "      <td>91.93</td>\n",
              "      <td>591.7</td>\n",
              "      <td>0.1385</td>\n",
              "      <td>0.4092</td>\n",
              "      <td>0.45040</td>\n",
              "      <td>0.18650</td>\n",
              "      <td>0.5774</td>\n",
              "      <td>0.10300</td>\n",
              "    </tr>\n",
              "  </tbody>\n",
              "</table>\n",
              "</div>"
            ],
            "text/plain": [
              "      0      1       2       3   ...       26       27      28       29\n",
              "0  14.80  17.66   95.88   674.8  ...  0.20600  0.08308  0.3600  0.07285\n",
              "1  11.74  14.02   74.24   427.3  ...  0.06735  0.08290  0.3101  0.06688\n",
              "2  14.71  21.59   95.55   656.9  ...  0.35870  0.18340  0.3698  0.10940\n",
              "3  18.77  21.43  122.90  1092.0  ...  0.46340  0.20480  0.3679  0.09870\n",
              "4  11.80  16.58   78.99   432.0  ...  0.45040  0.18650  0.5774  0.10300\n",
              "\n",
              "[5 rows x 30 columns]"
            ]
          },
          "metadata": {},
          "execution_count": 71
        }
      ]
    },
    {
      "cell_type": "code",
      "metadata": {
        "id": "lb_-PP0G_2pp"
      },
      "source": [
        "train_mean=np.mean(x_train,axis=0)\n",
        "train_std=np.std(x_train, axis=0)\n",
        "x_train_scaled=(x_train-train_mean)/train_std"
      ],
      "execution_count": 68,
      "outputs": []
    },
    {
      "cell_type": "code",
      "metadata": {
        "colab": {
          "base_uri": "https://localhost:8080/"
        },
        "id": "O2_Fx3Bt721E",
        "outputId": "6dee5c39-3fc6-4621-decc-6ffedc4b217c"
      },
      "source": [
        "train_mean.shape"
      ],
      "execution_count": 72,
      "outputs": [
        {
          "output_type": "execute_result",
          "data": {
            "text/plain": [
              "(30,)"
            ]
          },
          "metadata": {},
          "execution_count": 72
        }
      ]
    },
    {
      "cell_type": "markdown",
      "metadata": {
        "id": "EH7B6m2kGUV_"
      },
      "source": [
        "#### 2. 모델 훈련"
      ]
    },
    {
      "cell_type": "code",
      "metadata": {
        "colab": {
          "base_uri": "https://localhost:8080/",
          "height": 279
        },
        "id": "dUK7V015GaxI",
        "outputId": "c89f0b2b-d063-42d6-c578-386558f78a4a"
      },
      "source": [
        "layer2=SingleLayer()\n",
        "layer2.fit(x_train_scaled, y_train)\n",
        "\n",
        "w2,w3=[],[]\n",
        "\n",
        "for w in layer2.w_history:\n",
        "  w2.append(w[2])\n",
        "  w3.append(w[3])\n",
        "\n",
        "plt.plot(w2,w3)\n",
        "plt.plot(w2[-1], w3[-1],'ro')\n",
        "plt.xlabel('w2')\n",
        "plt.ylabel('w3')\n",
        "plt.show()"
      ],
      "execution_count": 138,
      "outputs": [
        {
          "output_type": "display_data",
          "data": {
            "image/png": "[encoded data removed]",
            "text/plain": [
              "<Figure size 432x288 with 1 Axes>"
            ]
          },
          "metadata": {
            "needs_background": "light"
          }
        }
      ]
    },
    {
      "cell_type": "markdown",
      "metadata": {
        "id": "uOPTl0TCHLMN"
      },
      "source": [
        "이전 그래프와 다르게 w2와 w3의 변화비율이 비슷하기 때문에 대각선 방향으로 가중치가 이동하였고 두 설명변수(특성, feature)의 스케일이 비슷하게 맞추었으므로 최적값에 빠르게 근접하고 있음을 알 수 있다.  \n",
        "__경사하강법에서는 서로 다른 특성의 스케일을 맞추는 것이 아주 중요하다__  \n",
        "이미지 데이터셋의 경우는 이미지 데이터셋은 한 픽셀의 값이 최소값0(검정),최대값255(흰색)으로 되어있다. 그래서 보통은 __이미지 데이터셋의 스케일을 맞출때는 255.0으로 나눈다__.\n",
        "\n",
        "#### 3. 모델성능 평가하기"
      ]
    },
    {
      "cell_type": "code",
      "metadata": {
        "colab": {
          "base_uri": "https://localhost:8080/"
        },
        "id": "OEK6mpAgIL8d",
        "outputId": "5d1add6e-dfbe-4259-aca2-344f6db5518a"
      },
      "source": [
        "layer2.score(x_val, y_val) "
      ],
      "execution_count": 139,
      "outputs": [
        {
          "output_type": "execute_result",
          "data": {
            "text/plain": [
              "0.37362637362637363"
            ]
          },
          "metadata": {},
          "execution_count": 139
        }
      ]
    },
    {
      "cell_type": "markdown",
      "metadata": {
        "id": "OeCbZTadIrNK"
      },
      "source": [
        "표준화하기 전에는 score가 0.91이었다. 매우 성능이 떨어졌음을 알수 있다. 이유는 __모델을 훈련한 train set만 스케일을 표준화하고 validation set은 표준화하지 않았기 때문이다.__"
      ]
    },
    {
      "cell_type": "code",
      "metadata": {
        "colab": {
          "base_uri": "https://localhost:8080/"
        },
        "id": "i1YmmRP0ILwy",
        "outputId": "cbf770e0-4d12-484d-e53a-40f6bf5bac7a"
      },
      "source": [
        "val_mean=np.mean(x_val,axis=0)\n",
        "val_std=np.std(x_val,axis=0)\n",
        "x_val_scaled=(x_val-val_mean)/val_std\n",
        "layer2.score(x_val_scaled, y_val)\n"
      ],
      "execution_count": 140,
      "outputs": [
        {
          "output_type": "execute_result",
          "data": {
            "text/plain": [
              "0.967032967032967"
            ]
          },
          "metadata": {},
          "execution_count": 140
        }
      ]
    },
    {
      "cell_type": "code",
      "metadata": {
        "colab": {
          "base_uri": "https://localhost:8080/",
          "height": 621
        },
        "id": "bEFiPfXIILjz",
        "outputId": "23de5795-f95c-403b-c3f9-c02bfa387d7d"
      },
      "source": [
        "plt.figure(figsize=(20,10))\n",
        "\n",
        "plt.subplot(1,2,1)\n",
        "plt.plot(x_train[:50, 0], x_train[:50, 1], 'bo')\n",
        "plt.plot(x_val[:50, 0], x_val[:50, 1], 'ro')\n",
        "plt.xlabel('feature 1')\n",
        "plt.ylabel('feature 2')\n",
        "plt.title('original train data set')\n",
        "plt.legend(['train set', 'val. set'])\n",
        "\n",
        "plt.subplot(1,2,2)\n",
        "plt.plot(x_train_scaled[:50, 0], x_train_scaled[:50, 1], 'bo')\n",
        "plt.plot(x_val_scaled[:50, 0], x_val_scaled[:50, 1], 'ro')\n",
        "plt.title('scaled train data set')\n",
        "plt.xlabel('feature 1')\n",
        "plt.ylabel('feature 2')\n",
        "plt.legend(['train set', 'val. set'])\n",
        "\n",
        "plt.show()"
      ],
      "execution_count": 144,
      "outputs": [
        {
          "output_type": "display_data",
          "data": {
            "image/png": "[encoded data removed]",
            "text/plain": [
              "<Figure size 1440x720 with 2 Axes>"
            ]
          },
          "metadata": {
            "needs_background": "light"
          }
        }
      ]
    },
    {
      "cell_type": "markdown",
      "metadata": {
        "id": "xXGDsDgDLLPc"
      },
      "source": [
        "왼쪽 (원본)산점도와 오른쪽 (표준화 스케일된 데이터) 산점도를 자세히 비교해보면 원본 훈련세트와 검증 세트의 점 사이의거리가 변환된 후에 그대로 유지 되지 않았다는 점을 알수 있다. __데이터를 제대로 스케일 조정을 했다면 훈련세트와 검증세트의 거리가 그대로 유지되어야 하지만 데이터의 거리가 달라진 이유는 훈련 세트와 검증세트를 각각 다른 비율로 전처리 했기 때문__이다. \n",
        "\n",
        "#### 3. 올바른 검증 세트 전처리하기"
      ]
    },
    {
      "cell_type": "code",
      "metadata": {
        "colab": {
          "base_uri": "https://localhost:8080/",
          "height": 621
        },
        "id": "bAazsuQi762e",
        "outputId": "1a4840cf-b839-4075-982a-c9e2f6c0b602"
      },
      "source": [
        "plt.figure(figsize=(20,10))\n",
        "\n",
        "plt.subplot(1,2,1)\n",
        "plt.plot(x_train[:50, 0], x_train[:50, 1], 'bo')\n",
        "plt.plot(x_val[:50, 0], x_val[:50, 1], 'ro')\n",
        "plt.xlabel('feature 1')\n",
        "plt.ylabel('feature 2')\n",
        "plt.title('original train data set')\n",
        "plt.legend(['train set', 'val. set'])\n",
        "\n",
        "x_val_scaled=(x_val-train_mean)/train_std\n",
        "plt.subplot(1,2,2)\n",
        "plt.plot(x_train_scaled[:50,0], x_train_scaled[:50,1],'bo')\n",
        "plt.plot(x_val_scaled[:50,0],x_val_scaled[:50,1],'ro')\n",
        "plt.xlabel('feature1')\n",
        "plt.ylabel('feature2')\n",
        "plt.title('scaled train data set')\n",
        "\n",
        "plt.legend(['train set', 'val.set'])\n",
        "\n",
        "plt.show()"
      ],
      "execution_count": 148,
      "outputs": [
        {
          "output_type": "display_data",
          "data": {
            "image/png": "[encoded data removed]",
            "text/plain": [
              "<Figure size 1440x720 with 2 Axes>"
            ]
          },
          "metadata": {
            "needs_background": "light"
          }
        }
      ]
    },
    {
      "cell_type": "markdown",
      "metadata": {
        "id": "Uy7qgeB0NlLo"
      },
      "source": [
        "__스케일 조정을 한 이후에 원본과 표준화 된 데이터의 산점도 분포가 같아졌다__\n",
        "\n",
        "#### 4. 모델평가하기"
      ]
    },
    {
      "cell_type": "code",
      "metadata": {
        "colab": {
          "base_uri": "https://localhost:8080/"
        },
        "id": "QaTRoi-tNuiB",
        "outputId": "7714f6c6-ec64-402a-c2a2-f93990e9ba89"
      },
      "source": [
        "layer2.score(x_val_scaled, y_val)"
      ],
      "execution_count": 149,
      "outputs": [
        {
          "output_type": "execute_result",
          "data": {
            "text/plain": [
              "0.967032967032967"
            ]
          },
          "metadata": {},
          "execution_count": 149
        }
      ]
    },
    {
      "cell_type": "markdown",
      "metadata": {
        "id": "TmYGA0TFN-1a"
      },
      "source": [
        "검증세트와 전처리의 필요성에 대해 알아보았다. 실전에 투입될 새로운 데이터에도 같은 전처리를 적용해야 한다는 것을 알았다. \n",
        "\n",
        "🎹 key point!!!\n",
        "- 모델을 튜닝하려면 테스트 세트 대신에 검증세트를 사용한다.\n",
        "- 데이터를 전처리 할때 훈련세트의 통계값으로 검증세트와 테스트세트를 변환해야 한다."
      ]
    },
    {
      "cell_type": "markdown",
      "metadata": {
        "id": "X29uSUbn9GK9"
      },
      "source": [
        "### 부록\n",
        "\n",
        "numpy의 차원 늘리기\n",
        "- 1차원 array"
      ]
    },
    {
      "cell_type": "code",
      "metadata": {
        "id": "8I8z5OYbCo8B"
      },
      "source": [
        "a=np.array([i for i in range(10)])\n",
        "b=np.array([i for i in range(10,20)])"
      ],
      "execution_count": 152,
      "outputs": []
    },
    {
      "cell_type": "code",
      "metadata": {
        "colab": {
          "base_uri": "https://localhost:8080/"
        },
        "id": "FH2ZEmR3C1FJ",
        "outputId": "22ccc301-ca30-4760-8889-256ed95b267e"
      },
      "source": [
        "c=np.append(a,b) # axis를 입력 안하면 1차원 연장\n",
        "c"
      ],
      "execution_count": 153,
      "outputs": [
        {
          "output_type": "execute_result",
          "data": {
            "text/plain": [
              "array([ 0,  1,  2,  3,  4,  5,  6,  7,  8,  9, 10, 11, 12, 13, 14, 15, 16,\n",
              "       17, 18, 19])"
            ]
          },
          "metadata": {},
          "execution_count": 153
        }
      ]
    },
    {
      "cell_type": "code",
      "metadata": {
        "colab": {
          "base_uri": "https://localhost:8080/"
        },
        "id": "R73RmEUwEKfI",
        "outputId": "3c8b6307-bc41-4e11-8b77-40c41d7b2f63"
      },
      "source": [
        "c=np.append(a,b,axis=-1)\n",
        "c # axis가 -1이어도 연장되는 방향으로 "
      ],
      "execution_count": 154,
      "outputs": [
        {
          "output_type": "execute_result",
          "data": {
            "text/plain": [
              "array([ 0,  1,  2,  3,  4,  5,  6,  7,  8,  9, 10, 11, 12, 13, 14, 15, 16,\n",
              "       17, 18, 19])"
            ]
          },
          "metadata": {},
          "execution_count": 154
        }
      ]
    },
    {
      "cell_type": "markdown",
      "metadata": {
        "id": "wdUxojp4DAWi"
      },
      "source": [
        "- 1차원 -> 2차원 matrix  \n",
        ": 여러가지 방법이 있었는데, 제가 익힌 방법은 reshape로 각 array의 차원을 확장하고 append로 두개의 확장된 array를 추가."
      ]
    },
    {
      "cell_type": "code",
      "metadata": {
        "colab": {
          "base_uri": "https://localhost:8080/"
        },
        "id": "xzfBHw2IDQ1q",
        "outputId": "cf113e83-1ed8-42f3-cc77-b9a1098543d4"
      },
      "source": [
        "a=np.array([i for i in range(10)])\n",
        "b=np.array([i for i in range(10,20)])\n",
        "a=a.reshape(1,a.shape[0])\n",
        "b=b.reshape(1,b.shape[0])\n",
        "c=np.append(a,b,axis=0) \n",
        "c"
      ],
      "execution_count": 156,
      "outputs": [
        {
          "output_type": "execute_result",
          "data": {
            "text/plain": [
              "array([[ 0,  1,  2,  3,  4,  5,  6,  7,  8,  9],\n",
              "       [10, 11, 12, 13, 14, 15, 16, 17, 18, 19]])"
            ]
          },
          "metadata": {},
          "execution_count": 156
        }
      ]
    },
    {
      "cell_type": "code",
      "metadata": {
        "colab": {
          "base_uri": "https://localhost:8080/"
        },
        "id": "kZpI_NEBFOPX",
        "outputId": "1d5ebde1-7728-4b70-c3ec-f808f3b6cfed"
      },
      "source": [
        "print(\"axis=1은 각 행의 평균을 낸다\",np.mean(c, axis=1)) \n",
        "print(\"axis=0은 각 열의 평균을 낸다.\"np.mean(c, axis=0))"
      ],
      "execution_count": 157,
      "outputs": [
        {
          "output_type": "stream",
          "name": "stdout",
          "text": [
            "[ 4.5 14.5]\n",
            "[ 5.  6.  7.  8.  9. 10. 11. 12. 13. 14.]\n"
          ]
        }
      ]
    },
    {
      "cell_type": "markdown",
      "metadata": {
        "id": "2oEoXRkNQjl8"
      },
      "source": [
        "1차원 array 인덱스[행]\n",
        "2차원 array 인덱스[열,행]\n",
        "3차원 array 인덱스[채널,열,행] 으로 접근이 가능하고 axis도 이 인덱스 번호에 맞춰서 기준을 잡는다고 생각하면 되겠다."
      ]
    },
    {
      "cell_type": "code",
      "metadata": {
        "colab": {
          "base_uri": "https://localhost:8080/"
        },
        "id": "Rx1ctha876hc",
        "outputId": "5e6406ca-1934-48ce-f706-9586574eee9c"
      },
      "source": [
        "a=[i for i in range(10)]\n",
        "a_=np.array([i for i in range(10,19)]).reshape((1,3,3))\n",
        "b=np.array(a)\n",
        "c=b[0:9].reshape((1,3,3))\n",
        "print(a_.shape, c.shape)\n",
        "d= np.append(c, a_, axis=0)"
      ],
      "execution_count": 136,
      "outputs": [
        {
          "output_type": "stream",
          "name": "stdout",
          "text": [
            "(1, 3, 3) (1, 3, 3)\n"
          ]
        }
      ]
    },
    {
      "cell_type": "code",
      "metadata": {
        "colab": {
          "base_uri": "https://localhost:8080/"
        },
        "id": "BOSIrl4MF87O",
        "outputId": "5b7d9672-c51a-4d5e-9969-5df31d0ffddb"
      },
      "source": [
        "d"
      ],
      "execution_count": 137,
      "outputs": [
        {
          "output_type": "execute_result",
          "data": {
            "text/plain": [
              "array([[[ 0,  1,  2],\n",
              "        [ 3,  4,  5],\n",
              "        [ 6,  7,  8]],\n",
              "\n",
              "       [[10, 11, 12],\n",
              "        [13, 14, 15],\n",
              "        [16, 17, 18]]])"
            ]
          },
          "metadata": {},
          "execution_count": 137
        }
      ]
    },
    {
      "cell_type": "code",
      "metadata": {
        "colab": {
          "base_uri": "https://localhost:8080/"
        },
        "id": "JvVqtMzs76Yi",
        "outputId": "6673b90b-1759-46d6-b7aa-98c911fae4ff"
      },
      "source": [
        "print(d[0,:,:])\n",
        "print(d[1,:,:])"
      ],
      "execution_count": 112,
      "outputs": [
        {
          "output_type": "stream",
          "name": "stdout",
          "text": [
            "[[0 1 2]\n",
            " [3 4 5]\n",
            " [6 7 8]]\n",
            "[[10 11 12]\n",
            " [13 14 15]\n",
            " [16 17 18]]\n"
          ]
        }
      ]
    },
    {
      "cell_type": "code",
      "metadata": {
        "id": "-ihQNy_D76K3"
      },
      "source": [
        ""
      ],
      "execution_count": null,
      "outputs": []
    }
  ]
}