{
 "cells": [
  {
   "cell_type": "markdown",
   "metadata": {},
   "source": [
    "## Chapter3 신경망 neural network\n",
    "\n",
    "### 목차\n",
    "### 3.1 퍼셉트론에서 신경망으로\n",
    "### 3.2 활성화 함수\n",
    "### 3.3 다차원 배열의 계산\n",
    "### 3.4 3층 신경망 구현하기\n",
    "### 3.5 출력층 설계하기\n",
    "### 3.6 손글씨 숫자인식\n",
    "\n",
    "\n",
    "\n",
    "\n"
   ]
  },
  {
   "cell_type": "markdown",
   "metadata": {},
   "source": [
    "### 3.1 퍼셉트론에서 신경망으로\n",
    "\n",
    " 아직은 AND, OR 게이트의 진리표를 보면서 수동으로 퍼셉트론에 필요한 가중치(Weight)를 정해줘야 한다. 신경망은 이런 문제를 해결해준다. \n",
    " \n",
    "목표: 신경망의 개요를 설명하고 신경망이 입력데이터가 무엇인지 식별하는 처리과정을 자세히 알아보자.\n",
    "#### 3.1.1 신경망의 예\n",
    "![](https://github.com/Asunny2019/Deeplearning_from_scratch/blob/main/Deeplearning_from_scratch1/img/ch3_1_nn.jpg?raw=true)\n",
    " \n",
    " - 입력층(input layer): 데이터 $x_1$, $x_2$ 등이 입력되는 층\n",
    " - 은닉층(hidden layer): 사람 눈에 보이지 않는 층(앞으로 실질적으로 weight이 학습되는 레이어라고 보면 된다.)\n",
    " - 출력층(output layer): 학습된 결과물이 출력되는 층\n",
    " \n",
    "#### 3.1.2 퍼셉트론의 복습\n",
    "\n",
    "\n",
    "$$y=\\begin{cases}\n",
    "0 \\;(b+w_1z_1 + w_2z_2\\leq0)\\\\\n",
    "1 \\;(b+w_1z_1 + w_2z_2\\gt0)\n",
    "\\end{cases} 식[3.1]$$\n",
    "![](https://github.com/Asunny2019/Deeplearning_from_scratch/blob/main/Deeplearning_from_scratch1/img/ch3_2_perceptron.PNG?raw=true)\n",
    "\n",
    "- $x_1, x_2$(변수,특성,feature): 입력 데이터  \n",
    "- $w_1, w_2$(가중치weight): 각 신호의 가중치를 나타내는 매개변수\n",
    "- b(편향,bias): 뉴런이 얼마나 쉽게 활성화 되는지를 제어한다.\n",
    "\n",
    "\n",
    "$$y=h(b+w_1z_1 + w_2z_2) [식 3.2]$$ \n",
    "$$y=h(a)=\\begin{cases}\n",
    "0 \\;(a\\leq0)\\\\\n",
    "1 \\;(a\\gt0)\n",
    "\\end{cases}  [식 3.3]$$\n",
    "\n",
    "책 밑바닥부터 시작하는 딥러닝1 에는 식 3.3이 h(x)로 기입되어있다(함수의 기본표현이므로) 그러나 식에서 $x_1,x_2$를 사용을 이미 하여서 입력되는 데이터 x와 헷갈릴수 있어서 $a=b+w_1z_1 + w_2z_2$로 대입해서 분리했다. \n",
    "퍼셉트론의 식[3.1]에서 a의 결과값이 0보다 크면 1, 0보다 작으면 0을 출력하하는 함수 h(a)가 도입되었다고 생각하면 되겠다.\n",
    "\n",
    "#### 3.1.3 활성화 함수의 등장\n",
    "\n",
    "- 활성화 함수(activation fuction): 입력 신호의 총합을 출력신호로 변환 시켜주는 함수  \n",
    "![](https://github.com/Asunny2019/Deeplearning_from_scratch/blob/main/Deeplearning_from_scratch1/img/ch3_3_activation.PNG?raw=true)\n",
    "\n",
    "그림3-4은 기존의 퍼셉트론의 도식에 식 3.3 활성화함수의 처리과정을 그려넣은 것이라고 보면 됩니다.\n",
    "\n",
    "\n",
    "![](https://github.com/Asunny2019/Deeplearning_from_scratch/blob/main/Deeplearning_from_scratch1/img/ch3_4_neuron.PNG?raw=true)\n",
    "\n",
    "뉴런과 노드는 이 책에서 같은 의미로 사용이 된다. "
   ]
  },
  {
   "cell_type": "markdown",
   "metadata": {},
   "source": [
    "![](https://github.com/Asunny2019/Deeplearning_from_scratch/blob/main/Deeplearning_from_scratch1/img/ch3_5_activation.jpg?raw=true)"
   ]
  },
  {
   "cell_type": "code",
   "execution_count": null,
   "metadata": {},
   "outputs": [],
   "source": []
  },
  {
   "cell_type": "markdown",
   "metadata": {},
   "source": []
  },
  {
   "cell_type": "code",
   "execution_count": null,
   "metadata": {},
   "outputs": [],
   "source": []
  },
  {
   "cell_type": "code",
   "execution_count": null,
   "metadata": {},
   "outputs": [],
   "source": []
  },
  {
   "cell_type": "code",
   "execution_count": null,
   "metadata": {},
   "outputs": [],
   "source": []
  },
  {
   "cell_type": "code",
   "execution_count": null,
   "metadata": {},
   "outputs": [],
   "source": []
  },
  {
   "cell_type": "code",
   "execution_count": null,
   "metadata": {},
   "outputs": [],
   "source": []
  },
  {
   "cell_type": "code",
   "execution_count": null,
   "metadata": {},
   "outputs": [],
   "source": []
  },
  {
   "cell_type": "code",
   "execution_count": null,
   "metadata": {},
   "outputs": [],
   "source": []
  },
  {
   "cell_type": "code",
   "execution_count": null,
   "metadata": {},
   "outputs": [],
   "source": []
  },
  {
   "cell_type": "code",
   "execution_count": null,
   "metadata": {},
   "outputs": [],
   "source": []
  }
 ],
 "metadata": {
  "kernelspec": {
   "display_name": "Python 3",
   "language": "python",
   "name": "python3"
  },
  "language_info": {
   "codemirror_mode": {
    "name": "ipython",
    "version": 3
   },
   "file_extension": ".py",
   "mimetype": "text/x-python",
   "name": "python",
   "nbconvert_exporter": "python",
   "pygments_lexer": "ipython3",
   "version": "3.7.4"
  }
 },
 "nbformat": 4,
 "nbformat_minor": 2
}
